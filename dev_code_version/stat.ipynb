{
 "cells": [
  {
   "cell_type": "code",
   "execution_count": 1,
   "metadata": {},
   "outputs": [],
   "source": [
    "import os "
   ]
  },
  {
   "cell_type": "code",
   "execution_count": 3,
   "metadata": {},
   "outputs": [],
   "source": [
    "NER_CARROLL = [\"Alice\", \"Wonderland\", \"Rabbit\", \"Hatter\", \"Cat\", \"Queen\", \"King\", \"Turtle\", \"Duchess\", \"Caterpillar\"]\n",
    "NER_CARROLL = [x.lower() for x in NER_CARROLL]\n",
    "\n",
    "NER_SHAKESPEAR = [\"BENEDICK\", \n",
    "\"LEONATO\",\n",
    "\"ANTONIO\",  \n",
    "\"BALTHASAR\",\n",
    "\"BORACHIO\",\n",
    "\"CONRADE\",\n",
    "\"DOGBERRY\",\n",
    "\"VERGES\",\n",
    "\"FRIAR\",\n",
    "\"FRANCIS\",\n",
    "\"Sexton\",\n",
    "\"Boy\",\n",
    "\"HERO\",\n",
    "\"BEATRICE\",\n",
    "\"MARGARET\",\n",
    "\"URSULA\"]\n",
    "NER_SHAKESPEAR = [x.lower() for x in NER_SHAKESPEAR]\n",
    "\n",
    "NER_WILDE = [\"John\", \"Worthing\",\n",
    "\"Algernon\", \"Moncrieff\",\n",
    "\"Chasuble\",\n",
    "\"Canon\",\n",
    "\"Merriman\",\n",
    "\"Butler\",\n",
    "\"Lane\",\n",
    "\"Manservant\",\n",
    "\"Bracknell\",\n",
    "\"Gwendolen\",\n",
    "\"Fairfax\",\n",
    "\"Cardew\",\n",
    "\"Cecily\",\n",
    "\"Prism\",\n",
    "\"Governess\"]\n",
    "NER_WILDE = [x.lower() for x in NER_WILDE]\n",
    "\n",
    "SENT_CARROL = [\"joy\",\n",
    "\"happy\",\n",
    "\"amusing\",\n",
    "\"loving\",\n",
    "\"funny\",\n",
    "\"dear\",\n",
    "\"rude\",\n",
    "\"angrily\",\n",
    "\"angry\",\n",
    "\"dull\",\n",
    "\"cry\",\n",
    "\"sadly\",\n",
    "\"sad\",\n",
    "]\n",
    "SENT_CARROL = [x.lower() for x in SENT_CARROL]\n",
    "\n",
    "SENT_SHAKESPEAR = [\"joy\",\n",
    "\"love\",\n",
    "\"loving\",\n",
    "\"happy\",\n",
    "\"modest\",\n",
    "\"kindness\",\n",
    "\"mock\",\n",
    "\"hate\",\n",
    "\"torture\",\n",
    "\"death\",\n",
    "\"bastard\"]\n",
    "SENT_SHAKESPEAR = [x.lower() for x in SENT_SHAKESPEAR]\n",
    "\n",
    "SENT_WILDE = [\"love\",\n",
    "\"loving\",\n",
    "\"interesting\",\n",
    "\"darling\",\n",
    "\"attractive\",\n",
    "\"unpleasant\",\n",
    "\"hate\",\n",
    "\"vulgar\",\n",
    "\"terrible\",\n",
    "\"painful\"]\n",
    "SENT_WILDE = [x.lower() for x in SENT_WILDE]"
   ]
  },
  {
   "cell_type": "code",
   "execution_count": 9,
   "metadata": {},
   "outputs": [],
   "source": [
    "def count_words(text:list, words:list)->dict:\n",
    "    \"\"\"\n",
    "    Counts the number of times each word appears in the text\n",
    "    :param text: list of words\n",
    "    :param words: list of words to count\n",
    "    :return: dictionary with words as keys and number of times they appear in the text as values\n",
    "    \"\"\"\n",
    "\n",
    "    words_count_per_text = {}\n",
    "\n",
    "    for word in text:\n",
    "        if word in words:\n",
    "            if word not in words_count_per_text:\n",
    "                words_count_per_text[word] = 1\n",
    "            else:\n",
    "                words_count_per_text[word] += 1\n",
    "\n",
    "    return words_count_per_text"
   ]
  },
  {
   "cell_type": "code",
   "execution_count": 13,
   "metadata": {},
   "outputs": [],
   "source": [
    "# read files from the directory and return a list of texts \n",
    "import re\n",
    "def read_files(directory)->dict:\n",
    "    \"\"\"\n",
    "    Reads all the files in the directory and counts the number of times each word appears in each text\n",
    "    :param directory: directory with the texts\n",
    "    :param count_words: function to count the words\n",
    "    :return: sorted dictionary with a number of the text and the counts of each word \n",
    "    \"\"\"\n",
    "\n",
    "    texts_vocab = {}\n",
    "    number_pattern = re.compile(r'\\d+')\n",
    "\n",
    "    for filename in os.listdir(directory):\n",
    "        if filename.endswith(\".txt\"):\n",
    "            with open(os.path.join(directory, filename), 'r') as f:\n",
    "                text = f.read().lower()\n",
    "                text = re.sub(r'[^\\w\\s]', '', text).split()\n",
    "                number = int(\"\".join(number_pattern.findall(filename)))\n",
    "                texts_vocab[number] = text\n",
    "\n",
    "    return {key: texts_vocab[key] for key in sorted(texts_vocab)}"
   ]
  },
  {
   "cell_type": "code",
   "execution_count": 45,
   "metadata": {},
   "outputs": [],
   "source": [
    "alice = read_files(\"/Users/dariastetsenko/Desktop/pcl1/Programming-for-Linguists-Project/Alice_in_wonderland/Sentiment\")\n",
    "ado = read_files(\"/Users/dariastetsenko/Desktop/pcl1/Programming-for-Linguists-Project/Much_ado_about_nothing/Sentiment\")\n",
    "earnest = read_files(\"/Users/dariastetsenko/Desktop/pcl1/Programming-for-Linguists-Project/Importance_of_being_earnest/Sentiment\")"
   ]
  },
  {
   "cell_type": "code",
   "execution_count": 186,
   "metadata": {},
   "outputs": [],
   "source": [
    "import json\n",
    "def json_conversion(data, count_words=count_words, words=NER_CARROLL):\n",
    "    \"\"\"\n",
    "    Convert the data to separate JSON strings for each chapter.\n",
    "    \"\"\"\n",
    "    chapter_json_strings = {}\n",
    "\n",
    "    for key, value in data.items():\n",
    "        # Calculate word counts for each chapter\n",
    "        chapter_counts = count_words(value, words)\n",
    "\n",
    "        # Format data for the current chapter\n",
    "        formatted_data = {f\"Chapter {key}\": chapter_counts}\n",
    "\n",
    "        # Convert the formatted data to JSON format\n",
    "        json_data = json.dumps(formatted_data, indent=2)\n",
    "\n",
    "        # Store the JSON string for the current chapter\n",
    "        chapter_json_strings[key] = json_data\n",
    "\n",
    "    return chapter_json_strings"
   ]
  },
  {
   "cell_type": "code",
   "execution_count": 216,
   "metadata": {},
   "outputs": [],
   "source": [
    "def write_as_json(data, file_path):\n",
    "    # Get the book title from the file path\n",
    "    book_title = os.path.splitext(os.path.basename(file_path))[0]\n",
    "    print(book_title)\n",
    "\n",
    "    for chapter, json_string in data.items():\n",
    "        chapter_name = f\"Chapter{chapter}\"\n",
    "        output_file_path = f\"{book_title}_{chapter_name}_Entities.json\"\n",
    "        # with open(output_file_path, \"w\") as f:\n",
    "        #     f.write(json_string)"
   ]
  },
  {
   "cell_type": "code",
   "execution_count": 50,
   "metadata": {},
   "outputs": [
    {
     "name": "stdout",
     "output_type": "stream",
     "text": [
      "Chapter1 {'joy': 4, 'modest': 2, 'kindness': 1, 'happy': 1, 'love': 12, 'loving': 1, 'mock': 2, 'death': 1}\n",
      "Chapter2 {'modest': 2, 'love': 27, 'joy': 4, 'happy': 2, 'death': 1, 'loving': 2}\n",
      "Chapter3 {'love': 20, 'mock': 1, 'death': 2, 'loving': 2, 'kindness': 1, 'joy': 1}\n",
      "Chapter4 {'modest': 1, 'love': 12, 'death': 3, 'hate': 1, 'torture': 1, 'bastard': 1, 'happy': 1}\n",
      "Chapter5 {'joy': 1, 'death': 10, 'hate': 1, 'love': 19, 'bastard': 1, 'loving': 1}\n"
     ]
    }
   ],
   "source": [
    "for key, value in ado.items():\n",
    "    print(f\"Chapter{key}\", count_words(value, SENT_SHAKESPEAR))"
   ]
  },
  {
   "cell_type": "code",
   "execution_count": 20,
   "metadata": {},
   "outputs": [],
   "source": [
    "# plot chapters against the number of times each word appears in the chapter\n",
    "import matplotlib.pyplot as plt\n",
    "def plot_chapters(data, words=NER_CARROLL):\n",
    "    \"\"\"\n",
    "    Plot the number of times each word appears in each chapter.\n",
    "    \"\"\"\n",
    "    # # Get the book title from the file path\n",
    "    # book_title = os.path.splitext(os.path.basename(file_path))[0]\n",
    "\n",
    "    # Create a figure and axes for each word\n",
    "    fig, axes = plt.subplots(nrows=len(words), ncols=1, figsize=(10, 10))\n",
    "\n",
    "    # Plot the data for each word\n",
    "    for i, word in enumerate(words):\n",
    "        # Get the data for the current word\n",
    "        word_data = [chapter_data[word] for chapter_data in data.values()]\n",
    "\n",
    "        # Plot the data for the current word\n",
    "        axes[i].plot(word_data)\n",
    "\n",
    "        # Set the title for the current word\n",
    "        axes[i].set_title(word)\n",
    "\n",
    "        # Set the x-axis label for the current word\n",
    "        axes[i].set_xlabel(\"Chapter\")\n",
    "\n",
    "        # Set the y-axis label for the current word\n",
    "        axes[i].set_ylabel(\"Number of times\")\n",
    "\n",
    "    # Adjust the spacing between subplots\n",
    "    fig.tight_layout()\n",
    "\n",
    "    # Save the plot\n",
    "    # output_file_path = f\"{book_title}_Entities.png\"\n",
    "    # plt.savefig(output_file_path)\n",
    "\n",
    "    # Show the plot\n",
    "    plt.show()"
   ]
  },
  {
   "cell_type": "code",
   "execution_count": 51,
   "metadata": {},
   "outputs": [
    {
     "name": "stdout",
     "output_type": "stream",
     "text": [
      "{'joy': 10, 'modest': 5, 'kindness': 2, 'happy': 4, 'love': 90, 'loving': 6, 'mock': 3, 'death': 17, 'hate': 2, 'torture': 1, 'bastard': 2}\n"
     ]
    }
   ],
   "source": [
    "total = {}\n",
    "for key, value in ado.items():\n",
    "    counts = count_words(value, SENT_SHAKESPEAR)\n",
    "    for k, v in counts.items():\n",
    "        if k not in total:\n",
    "            total[k] = v\n",
    "        else:\n",
    "            total[k] += v\n",
    "print(total)"
   ]
  },
  {
   "cell_type": "code",
   "execution_count": null,
   "metadata": {},
   "outputs": [],
   "source": []
  }
 ],
 "metadata": {
  "kernelspec": {
   "display_name": "Python 3",
   "language": "python",
   "name": "python3"
  },
  "language_info": {
   "codemirror_mode": {
    "name": "ipython",
    "version": 3
   },
   "file_extension": ".py",
   "mimetype": "text/x-python",
   "name": "python",
   "nbconvert_exporter": "python",
   "pygments_lexer": "ipython3",
   "version": "3.9.7"
  }
 },
 "nbformat": 4,
 "nbformat_minor": 2
}
